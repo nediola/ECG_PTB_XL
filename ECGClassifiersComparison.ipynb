{
 "cells": [
  {
   "cell_type": "code",
   "execution_count": 26,
   "metadata": {},
   "outputs": [
    {
     "data": {
      "text/html": [
       "        <script type=\"text/javascript\">\n",
       "        window.PlotlyConfig = {MathJaxConfig: 'local'};\n",
       "        if (window.MathJax) {MathJax.Hub.Config({SVG: {font: \"STIX-Web\"}});}\n",
       "        if (typeof require !== 'undefined') {\n",
       "        require.undef(\"plotly\");\n",
       "        requirejs.config({\n",
       "            paths: {\n",
       "                'plotly': ['https://cdn.plot.ly/plotly-latest.min']\n",
       "            }\n",
       "        });\n",
       "        require(['plotly'], function(Plotly) {\n",
       "            window._Plotly = Plotly;\n",
       "        });\n",
       "        }\n",
       "        </script>\n",
       "        "
      ]
     },
     "metadata": {},
     "output_type": "display_data"
    }
   ],
   "source": [
    "import ast\n",
    "import wfdb\n",
    "import torch\n",
    "import numpy as np\n",
    "import pandas as pd\n",
    "import neurokit2 as nk\n",
    "from scipy.stats import wilcoxon\n",
    "\n",
    "from models import ECGNet, ECGWithMetaNet, ModelWrapper\n",
    "from ecg_features import calc_features, load_features\n",
    "from multilabel_metrics import accuracy_multilabel, f1_multilabel, roc_auc_multilabel\n",
    "from multilabel_metrics import sensitivity_multilabel, specificity_multilabel, get_metrics, print_metrics\n",
    "\n",
    "from chart_studio import plotly\n",
    "from plotly.offline import init_notebook_mode, iplot\n",
    "import plotly.graph_objs as go\n",
    "init_notebook_mode(connected=True)\n",
    "\n",
    "pd.options.display.max_colwidth = 200\n",
    "pd.options.display.max_columns = 200"
   ]
  },
  {
   "cell_type": "markdown",
   "metadata": {},
   "source": [
    "### Подготовка датасетов"
   ]
  },
  {
   "cell_type": "markdown",
   "metadata": {},
   "source": [
    "Классы и метрики, которые для них будем считать "
   ]
  },
  {
   "cell_type": "code",
   "execution_count": 27,
   "metadata": {},
   "outputs": [],
   "source": [
    "SCP_LABELS = {\n",
    "    'SR': 'sinus rhythm',\n",
    "    'SARRH': 'sinus arrhythmia',\n",
    "    'SBRAD': 'bradycardia',\n",
    "    'STACH': 'sinus tachycardia',\n",
    "    'AFIB': 'artrial fibrillation',\n",
    "}\n",
    "SCP_LABELS_ARR = ['SR', 'SARRH', 'SBRAD', 'STACH', 'AFIB']\n",
    "\n",
    "METRICS = [\n",
    "    accuracy_multilabel,\n",
    "    f1_multilabel,\n",
    "    roc_auc_multilabel,\n",
    "    sensitivity_multilabel,\n",
    "    specificity_multilabel\n",
    "]\n",
    "LABELS = [f'{SCP_LABELS[l]} [{l}]' for l in SCP_LABELS_ARR] + ['Total']\n",
    "METRICS_LABELS = ['Accuracy', 'f1', 'ROC AUC', 'Sensitivity [TPR]', 'Specificity [TNR]']\n",
    "\n",
    "DB_ROOT = 'data/ptb-xl-a-large-publicly-available-electrocardiography-dataset-1.0.1'"
   ]
  },
  {
   "cell_type": "markdown",
   "metadata": {},
   "source": [
    "Загружаем диагнозы в виде SCP-кодов и делим их на отдельные колонки."
   ]
  },
  {
   "cell_type": "code",
   "execution_count": 3,
   "metadata": {},
   "outputs": [
    {
     "data": {
      "text/html": [
       "<div>\n",
       "<style scoped>\n",
       "    .dataframe tbody tr th:only-of-type {\n",
       "        vertical-align: middle;\n",
       "    }\n",
       "\n",
       "    .dataframe tbody tr th {\n",
       "        vertical-align: top;\n",
       "    }\n",
       "\n",
       "    .dataframe thead th {\n",
       "        text-align: right;\n",
       "    }\n",
       "</style>\n",
       "<table border=\"1\" class=\"dataframe\">\n",
       "  <thead>\n",
       "    <tr style=\"text-align: right;\">\n",
       "      <th></th>\n",
       "      <th>ecg_id</th>\n",
       "      <th>patient_id</th>\n",
       "      <th>age</th>\n",
       "      <th>sex</th>\n",
       "      <th>height</th>\n",
       "      <th>weight</th>\n",
       "      <th>nurse</th>\n",
       "      <th>site</th>\n",
       "      <th>device</th>\n",
       "      <th>recording_date</th>\n",
       "      <th>...</th>\n",
       "      <th>strat_fold</th>\n",
       "      <th>filename_lr</th>\n",
       "      <th>filename_hr</th>\n",
       "      <th>SR</th>\n",
       "      <th>SARRH</th>\n",
       "      <th>SBRAD</th>\n",
       "      <th>STACH</th>\n",
       "      <th>AFIB</th>\n",
       "      <th>labels_cnt</th>\n",
       "      <th>has_label</th>\n",
       "    </tr>\n",
       "  </thead>\n",
       "  <tbody>\n",
       "    <tr>\n",
       "      <th>0</th>\n",
       "      <td>1</td>\n",
       "      <td>15709.0</td>\n",
       "      <td>56.0</td>\n",
       "      <td>1</td>\n",
       "      <td>NaN</td>\n",
       "      <td>63.0</td>\n",
       "      <td>2.0</td>\n",
       "      <td>0.0</td>\n",
       "      <td>CS-12   E</td>\n",
       "      <td>1984-11-09 09:17:34</td>\n",
       "      <td>...</td>\n",
       "      <td>3</td>\n",
       "      <td>records100/00000/00001_lr</td>\n",
       "      <td>records500/00000/00001_hr</td>\n",
       "      <td>1</td>\n",
       "      <td>0</td>\n",
       "      <td>0</td>\n",
       "      <td>0</td>\n",
       "      <td>0</td>\n",
       "      <td>1</td>\n",
       "      <td>True</td>\n",
       "    </tr>\n",
       "    <tr>\n",
       "      <th>1</th>\n",
       "      <td>2</td>\n",
       "      <td>13243.0</td>\n",
       "      <td>19.0</td>\n",
       "      <td>0</td>\n",
       "      <td>NaN</td>\n",
       "      <td>70.0</td>\n",
       "      <td>2.0</td>\n",
       "      <td>0.0</td>\n",
       "      <td>CS-12   E</td>\n",
       "      <td>1984-11-14 12:55:37</td>\n",
       "      <td>...</td>\n",
       "      <td>2</td>\n",
       "      <td>records100/00000/00002_lr</td>\n",
       "      <td>records500/00000/00002_hr</td>\n",
       "      <td>0</td>\n",
       "      <td>0</td>\n",
       "      <td>1</td>\n",
       "      <td>0</td>\n",
       "      <td>0</td>\n",
       "      <td>1</td>\n",
       "      <td>True</td>\n",
       "    </tr>\n",
       "  </tbody>\n",
       "</table>\n",
       "<p>2 rows × 35 columns</p>\n",
       "</div>"
      ],
      "text/plain": [
       "   ecg_id  patient_id   age  sex  height  weight  nurse  site     device  \\\n",
       "0       1     15709.0  56.0    1     NaN    63.0    2.0   0.0  CS-12   E   \n",
       "1       2     13243.0  19.0    0     NaN    70.0    2.0   0.0  CS-12   E   \n",
       "\n",
       "        recording_date  ... strat_fold                filename_lr  \\\n",
       "0  1984-11-09 09:17:34  ...          3  records100/00000/00001_lr   \n",
       "1  1984-11-14 12:55:37  ...          2  records100/00000/00002_lr   \n",
       "\n",
       "                 filename_hr SR SARRH  SBRAD  STACH  AFIB  labels_cnt  \\\n",
       "0  records500/00000/00001_hr  1     0      0      0     0           1   \n",
       "1  records500/00000/00002_hr  0     0      1      0     0           1   \n",
       "\n",
       "  has_label  \n",
       "0      True  \n",
       "1      True  \n",
       "\n",
       "[2 rows x 35 columns]"
      ]
     },
     "execution_count": 3,
     "metadata": {},
     "output_type": "execute_result"
    }
   ],
   "source": [
    "Y = pd.read_csv(f'{DB_ROOT}/ptbxl_database.csv')\n",
    "Y.scp_codes = Y.scp_codes.apply(lambda x: ast.literal_eval(x))\n",
    "\n",
    "# Split scp labels into separate columns\n",
    "for scp_label in SCP_LABELS_ARR:\n",
    "    Y[scp_label] = Y.scp_codes.apply(lambda x: int(scp_label in x))\n",
    "\n",
    "# If one of the illnesses or normal\n",
    "Y['labels_cnt'] = Y[SCP_LABELS_ARR].sum(axis=1)\n",
    "Y['has_label'] = Y.labels_cnt > 0\n",
    "\n",
    "Y.head(2)"
   ]
  },
  {
   "cell_type": "markdown",
   "metadata": {},
   "source": [
    "Оставляем в каждом фолде по 100 псевдо-случайных ЭКГ со статусом SR."
   ]
  },
  {
   "cell_type": "code",
   "execution_count": 4,
   "metadata": {},
   "outputs": [
    {
     "data": {
      "text/html": [
       "<div>\n",
       "<style scoped>\n",
       "    .dataframe tbody tr th:only-of-type {\n",
       "        vertical-align: middle;\n",
       "    }\n",
       "\n",
       "    .dataframe tbody tr th {\n",
       "        vertical-align: top;\n",
       "    }\n",
       "\n",
       "    .dataframe thead th {\n",
       "        text-align: right;\n",
       "    }\n",
       "</style>\n",
       "<table border=\"1\" class=\"dataframe\">\n",
       "  <thead>\n",
       "    <tr style=\"text-align: right;\">\n",
       "      <th></th>\n",
       "      <th>strat_fold</th>\n",
       "      <th>has_label</th>\n",
       "      <th>ecg_id</th>\n",
       "      <th>SR</th>\n",
       "      <th>SARRH</th>\n",
       "      <th>SBRAD</th>\n",
       "      <th>STACH</th>\n",
       "      <th>AFIB</th>\n",
       "    </tr>\n",
       "  </thead>\n",
       "  <tbody>\n",
       "    <tr>\n",
       "      <th>0</th>\n",
       "      <td>1</td>\n",
       "      <td>False</td>\n",
       "      <td>126</td>\n",
       "      <td>0</td>\n",
       "      <td>0</td>\n",
       "      <td>0</td>\n",
       "      <td>0</td>\n",
       "      <td>0</td>\n",
       "    </tr>\n",
       "    <tr>\n",
       "      <th>1</th>\n",
       "      <td>1</td>\n",
       "      <td>True</td>\n",
       "      <td>473</td>\n",
       "      <td>100</td>\n",
       "      <td>77</td>\n",
       "      <td>63</td>\n",
       "      <td>82</td>\n",
       "      <td>151</td>\n",
       "    </tr>\n",
       "    <tr>\n",
       "      <th>2</th>\n",
       "      <td>2</td>\n",
       "      <td>False</td>\n",
       "      <td>131</td>\n",
       "      <td>0</td>\n",
       "      <td>0</td>\n",
       "      <td>0</td>\n",
       "      <td>0</td>\n",
       "      <td>0</td>\n",
       "    </tr>\n",
       "    <tr>\n",
       "      <th>3</th>\n",
       "      <td>2</td>\n",
       "      <td>True</td>\n",
       "      <td>475</td>\n",
       "      <td>100</td>\n",
       "      <td>77</td>\n",
       "      <td>64</td>\n",
       "      <td>83</td>\n",
       "      <td>151</td>\n",
       "    </tr>\n",
       "    <tr>\n",
       "      <th>4</th>\n",
       "      <td>3</td>\n",
       "      <td>False</td>\n",
       "      <td>144</td>\n",
       "      <td>0</td>\n",
       "      <td>0</td>\n",
       "      <td>0</td>\n",
       "      <td>0</td>\n",
       "      <td>0</td>\n",
       "    </tr>\n",
       "    <tr>\n",
       "      <th>5</th>\n",
       "      <td>3</td>\n",
       "      <td>True</td>\n",
       "      <td>472</td>\n",
       "      <td>100</td>\n",
       "      <td>77</td>\n",
       "      <td>63</td>\n",
       "      <td>82</td>\n",
       "      <td>151</td>\n",
       "    </tr>\n",
       "    <tr>\n",
       "      <th>6</th>\n",
       "      <td>4</td>\n",
       "      <td>False</td>\n",
       "      <td>121</td>\n",
       "      <td>0</td>\n",
       "      <td>0</td>\n",
       "      <td>0</td>\n",
       "      <td>0</td>\n",
       "      <td>0</td>\n",
       "    </tr>\n",
       "    <tr>\n",
       "      <th>7</th>\n",
       "      <td>4</td>\n",
       "      <td>True</td>\n",
       "      <td>475</td>\n",
       "      <td>100</td>\n",
       "      <td>77</td>\n",
       "      <td>64</td>\n",
       "      <td>83</td>\n",
       "      <td>151</td>\n",
       "    </tr>\n",
       "    <tr>\n",
       "      <th>8</th>\n",
       "      <td>5</td>\n",
       "      <td>False</td>\n",
       "      <td>121</td>\n",
       "      <td>0</td>\n",
       "      <td>0</td>\n",
       "      <td>0</td>\n",
       "      <td>0</td>\n",
       "      <td>0</td>\n",
       "    </tr>\n",
       "    <tr>\n",
       "      <th>9</th>\n",
       "      <td>5</td>\n",
       "      <td>True</td>\n",
       "      <td>476</td>\n",
       "      <td>100</td>\n",
       "      <td>78</td>\n",
       "      <td>64</td>\n",
       "      <td>83</td>\n",
       "      <td>152</td>\n",
       "    </tr>\n",
       "    <tr>\n",
       "      <th>10</th>\n",
       "      <td>6</td>\n",
       "      <td>False</td>\n",
       "      <td>128</td>\n",
       "      <td>0</td>\n",
       "      <td>0</td>\n",
       "      <td>0</td>\n",
       "      <td>0</td>\n",
       "      <td>0</td>\n",
       "    </tr>\n",
       "    <tr>\n",
       "      <th>11</th>\n",
       "      <td>6</td>\n",
       "      <td>True</td>\n",
       "      <td>472</td>\n",
       "      <td>100</td>\n",
       "      <td>77</td>\n",
       "      <td>63</td>\n",
       "      <td>82</td>\n",
       "      <td>151</td>\n",
       "    </tr>\n",
       "    <tr>\n",
       "      <th>12</th>\n",
       "      <td>7</td>\n",
       "      <td>False</td>\n",
       "      <td>124</td>\n",
       "      <td>0</td>\n",
       "      <td>0</td>\n",
       "      <td>0</td>\n",
       "      <td>0</td>\n",
       "      <td>0</td>\n",
       "    </tr>\n",
       "    <tr>\n",
       "      <th>13</th>\n",
       "      <td>7</td>\n",
       "      <td>True</td>\n",
       "      <td>476</td>\n",
       "      <td>100</td>\n",
       "      <td>77</td>\n",
       "      <td>64</td>\n",
       "      <td>83</td>\n",
       "      <td>152</td>\n",
       "    </tr>\n",
       "    <tr>\n",
       "      <th>14</th>\n",
       "      <td>8</td>\n",
       "      <td>False</td>\n",
       "      <td>125</td>\n",
       "      <td>0</td>\n",
       "      <td>0</td>\n",
       "      <td>0</td>\n",
       "      <td>0</td>\n",
       "      <td>0</td>\n",
       "    </tr>\n",
       "    <tr>\n",
       "      <th>15</th>\n",
       "      <td>8</td>\n",
       "      <td>True</td>\n",
       "      <td>476</td>\n",
       "      <td>100</td>\n",
       "      <td>77</td>\n",
       "      <td>64</td>\n",
       "      <td>83</td>\n",
       "      <td>152</td>\n",
       "    </tr>\n",
       "    <tr>\n",
       "      <th>16</th>\n",
       "      <td>9</td>\n",
       "      <td>False</td>\n",
       "      <td>140</td>\n",
       "      <td>0</td>\n",
       "      <td>0</td>\n",
       "      <td>0</td>\n",
       "      <td>0</td>\n",
       "      <td>0</td>\n",
       "    </tr>\n",
       "    <tr>\n",
       "      <th>17</th>\n",
       "      <td>9</td>\n",
       "      <td>True</td>\n",
       "      <td>475</td>\n",
       "      <td>100</td>\n",
       "      <td>77</td>\n",
       "      <td>64</td>\n",
       "      <td>83</td>\n",
       "      <td>151</td>\n",
       "    </tr>\n",
       "    <tr>\n",
       "      <th>18</th>\n",
       "      <td>10</td>\n",
       "      <td>False</td>\n",
       "      <td>151</td>\n",
       "      <td>0</td>\n",
       "      <td>0</td>\n",
       "      <td>0</td>\n",
       "      <td>0</td>\n",
       "      <td>0</td>\n",
       "    </tr>\n",
       "    <tr>\n",
       "      <th>19</th>\n",
       "      <td>10</td>\n",
       "      <td>True</td>\n",
       "      <td>474</td>\n",
       "      <td>100</td>\n",
       "      <td>76</td>\n",
       "      <td>64</td>\n",
       "      <td>82</td>\n",
       "      <td>152</td>\n",
       "    </tr>\n",
       "  </tbody>\n",
       "</table>\n",
       "</div>"
      ],
      "text/plain": [
       "    strat_fold  has_label  ecg_id   SR  SARRH  SBRAD  STACH  AFIB\n",
       "0            1      False     126    0      0      0      0     0\n",
       "1            1       True     473  100     77     63     82   151\n",
       "2            2      False     131    0      0      0      0     0\n",
       "3            2       True     475  100     77     64     83   151\n",
       "4            3      False     144    0      0      0      0     0\n",
       "5            3       True     472  100     77     63     82   151\n",
       "6            4      False     121    0      0      0      0     0\n",
       "7            4       True     475  100     77     64     83   151\n",
       "8            5      False     121    0      0      0      0     0\n",
       "9            5       True     476  100     78     64     83   152\n",
       "10           6      False     128    0      0      0      0     0\n",
       "11           6       True     472  100     77     63     82   151\n",
       "12           7      False     124    0      0      0      0     0\n",
       "13           7       True     476  100     77     64     83   152\n",
       "14           8      False     125    0      0      0      0     0\n",
       "15           8       True     476  100     77     64     83   152\n",
       "16           9      False     140    0      0      0      0     0\n",
       "17           9       True     475  100     77     64     83   151\n",
       "18          10      False     151    0      0      0      0     0\n",
       "19          10       True     474  100     76     64     82   152"
      ]
     },
     "execution_count": 4,
     "metadata": {},
     "output_type": "execute_result"
    }
   ],
   "source": [
    "def count_nonzero(x):\n",
    "    return np.sum(x > 0)\n",
    "\n",
    "def get_random_n(obj, n, replace=False, seed=123):\n",
    "    np.random.seed(seed)\n",
    "    return obj.loc[np.random.choice(obj.index, n, replace), :]\n",
    "    \n",
    "SR_ecgids = Y[Y.SR == 1].groupby('strat_fold', as_index=False).apply(lambda r: get_random_n(r, 100))['ecg_id'].values\n",
    "Y = Y[(Y.SR == 0) | (Y.ecg_id.isin(SR_ecgids))]\n",
    "\n",
    "# Check result\n",
    "Y[['strat_fold', 'has_label', 'ecg_id'] + SCP_LABELS_ARR].groupby(['strat_fold', 'has_label']).agg(count_nonzero).reset_index()"
   ]
  },
  {
   "cell_type": "markdown",
   "metadata": {},
   "source": [
    "Загружаем и сглаживаем сигналы ЭКГ с sampling_rate=100"
   ]
  },
  {
   "cell_type": "code",
   "execution_count": 6,
   "metadata": {},
   "outputs": [],
   "source": [
    "def load_raw_data(df, sampling_rate, path):\n",
    "    if sampling_rate == 100:\n",
    "        data = [wfdb.rdsamp(f\"{path}/{f}\") for f in df.filename_lr]\n",
    "    else:\n",
    "        data = [wfdb.rdsamp(f\"{path}/{f}\") for f in df.filename_hr]\n",
    "    data = np.array([signal for signal, meta in data])\n",
    "    return data\n",
    "\n",
    "X = load_raw_data(Y, 100, DB_ROOT)\n",
    "\n",
    "# Smooth ECG signal\n",
    "X = np.apply_along_axis(nk.ecg_clean, 1, X, 100)"
   ]
  },
  {
   "cell_type": "markdown",
   "metadata": {},
   "source": [
    "### Обучаем простую CNN-модель"
   ]
  },
  {
   "cell_type": "markdown",
   "metadata": {},
   "source": [
    "Используем 10-fold cross validation. Сохраняем модели."
   ]
  },
  {
   "cell_type": "code",
   "execution_count": null,
   "metadata": {
    "scrolled": true
   },
   "outputs": [],
   "source": [
    "train_acc = {}\n",
    "val_acc = {}\n",
    "best_val_acc = {}\n",
    "\n",
    "for i in range(1, 11):\n",
    "    print(f'Start train {i}-th model')\n",
    "    \n",
    "    # Train dataset\n",
    "    X_train = X[np.where(Y.strat_fold != i)]\n",
    "    Y_train = Y[Y.strat_fold != i]\n",
    "    y_train = Y_train[SCP_LABELS_ARR].values\n",
    "\n",
    "    # Validation dataset\n",
    "    X_val = X[np.where(Y.strat_fold == i)]\n",
    "    Y_val = Y[Y.strat_fold == i]\n",
    "    y_val = Y_val[SCP_LABELS_ARR].values\n",
    "\n",
    "    wrapper = ModelWrapper(ECGNet())\n",
    "    save_path = f'./models/simple_ecg_{i}'\n",
    "    ta, va, bva = wrapper.train_n_epochs(\n",
    "        X_train, None, y_train, X_val, None, y_val,\n",
    "        save_path, epochs=35, verbose=False, batch_size=256\n",
    "    )\n",
    "    train_acc[i] = ta\n",
    "    val_acc[i] = va\n",
    "    best_val_acc[i] = bva"
   ]
  },
  {
   "cell_type": "markdown",
   "metadata": {},
   "source": [
    "Считаем метрики"
   ]
  },
  {
   "cell_type": "code",
   "execution_count": 13,
   "metadata": {
    "scrolled": true
   },
   "outputs": [
    {
     "name": "stdout",
     "output_type": "stream",
     "text": [
      "Start evaluate 1-th model\n",
      "Start evaluate 2-th model\n",
      "Start evaluate 3-th model\n",
      "Start evaluate 4-th model\n",
      "Start evaluate 5-th model\n",
      "Start evaluate 6-th model\n",
      "Start evaluate 7-th model\n",
      "Start evaluate 8-th model\n",
      "Start evaluate 9-th model\n",
      "Start evaluate 10-th model\n"
     ]
    }
   ],
   "source": [
    "# Load models of 10-fold cross validation and evaluate\n",
    "predictions_1 = []\n",
    "for i in range(1, 11):\n",
    "    print(f'Start evaluate {i}-th model')\n",
    "    \n",
    "    # Validation dataset\n",
    "    X_val = X[np.where(Y.strat_fold == i)]\n",
    "    X_val_T = torch.Tensor(np.transpose(X_val, [0, 2, 1]))\n",
    "    Y_val = Y[Y.strat_fold == i]\n",
    "    y_val = Y_val[SCP_LABELS_ARR].values\n",
    "    \n",
    "    wrapper = ModelWrapper(ECGNet())\n",
    "    save_path = f'./models/simple_ecg_{i}'\n",
    "    wrapper.load(save_path)\n",
    "    y_pred_weights = wrapper.predict(X_val_T).detach().numpy()\n",
    "    predictions_1.append([y_val, y_pred_weights])"
   ]
  },
  {
   "cell_type": "code",
   "execution_count": 14,
   "metadata": {},
   "outputs": [
    {
     "name": "stdout",
     "output_type": "stream",
     "text": [
      "sinus rhythm [SR]\n",
      "\tAccuracy: 0.8337  f1: 0.4249  ROC AUC: 0.8429  Sensitivity [TPR]: 0.396  Specificity [TNR]: 0.9206\n",
      "sinus arrhythmia [SARRH]\n",
      "\tAccuracy: 0.8537  f1: 0.1873  ROC AUC: 0.8084  Sensitivity [TPR]: 0.1532  Specificity [TNR]: 0.9559\n",
      "bradycardia [SBRAD]\n",
      "\tAccuracy: 0.9306  f1: 0.6871  ROC AUC: 0.9553  Sensitivity [TPR]: 0.7313  Specificity [TNR]: 0.9539\n",
      "sinus tachycardia [STACH]\n",
      "\tAccuracy: 0.9548  f1: 0.8328  ROC AUC: 0.9795  Sensitivity [TPR]: 0.8354  Specificity [TNR]: 0.9737\n",
      "artrial fibrillation [AFIB]\n",
      "\tAccuracy: 0.8931  f1: 0.7592  ROC AUC: 0.954  Sensitivity [TPR]: 0.6778  Specificity [TNR]: 0.9649\n",
      "Total\n",
      "\tAccuracy: 0.5606  f1: 0.5782  ROC AUC: 0.908  Sensitivity [TPR]: 0.5588  Specificity [TNR]: 0.9538\n"
     ]
    }
   ],
   "source": [
    "metrics_1 = get_metrics(predictions_1, METRICS)\n",
    "print_metrics(LABELS, METRICS_LABELS, metrics_1)"
   ]
  },
  {
   "cell_type": "markdown",
   "metadata": {},
   "source": [
    "### Обучаем CNN-модель с мета-фичами"
   ]
  },
  {
   "cell_type": "markdown",
   "metadata": {},
   "source": [
    "Считаем мета-фичи по очереди по каждому каналу. В пределах одного канала обработка параллельная на половине ядер."
   ]
  },
  {
   "cell_type": "code",
   "execution_count": 32,
   "metadata": {},
   "outputs": [
    {
     "name": "stdout",
     "output_type": "stream",
     "text": [
      "Start process 0-th channel\n",
      "Start process 1-th channel\n",
      "Start process 2-th channel\n",
      "Start process 3-th channel\n",
      "Start process 4-th channel\n",
      "Start process 5-th channel\n",
      "Start process 6-th channel\n",
      "Start process 7-th channel\n",
      "Start process 8-th channel\n",
      "Start process 9-th channel\n",
      "Start process 10-th channel\n",
      "Start process 11-th channel\n",
      "Meta features shape: (6055, 588)\n"
     ]
    }
   ],
   "source": [
    "%%capture --no-stdout\n",
    "calc_features(X, 'meta_features/all', channels=12)"
   ]
  },
  {
   "cell_type": "markdown",
   "metadata": {},
   "source": [
    "Оставляем только интересующие мета-фичи и нормализуем"
   ]
  },
  {
   "cell_type": "code",
   "execution_count": 66,
   "metadata": {},
   "outputs": [
    {
     "name": "stdout",
     "output_type": "stream",
     "text": [
      "Meta features shape: (6055, 588)\n",
      "Target meta-features shape: (6055, 48)\n"
     ]
    }
   ],
   "source": [
    "from sklearn.preprocessing import normalize\n",
    "\n",
    "# 0: mean_rate\n",
    "# 1: RR_min/RR_max\n",
    "# 2: RR_mean/RR_max\n",
    "# 3: RR_min/RR_mean\n",
    "# 17: Q_max\n",
    "# 25: S_max\n",
    "# 33: RR_max\n",
    "# 34: RR_min\n",
    "# 39: PQ_mean\n",
    "# 41: QRS_max\n",
    "# 42: QRS_min\n",
    "\n",
    "X_meta = load_features('meta_features/all', channels=12)\n",
    "print(f'Meta features shape: {X_meta.shape}')\n",
    "\n",
    "target_ids = []\n",
    "for channel_id in range (0, 12):\n",
    "    #try1: for i in [0, 1, 2, 17, 25, 33, 34, 39, 41, 42]:\n",
    "    #try2: for i in [0, 1, 2, 25, 33, 34]:\n",
    "    for i in [0, 1, 2, 3]:\n",
    "        target_ids.append(i + 49*channel_id)\n",
    "        \n",
    "X_meta = X_meta[:, target_ids]\n",
    "average_values = np.mean(X_meta, axis=0)\n",
    "for i in range(average_values.shape[0]):\n",
    "    replacement = average_values[i]\n",
    "    X_meta[:, i] = np.where(X_meta[:, i] == 0, replacement, X_meta[:, i])\n",
    "    \n",
    "X_meta = normalize(X_meta, axis=0)\n",
    "print(f'Target meta-features shape: {X_meta.shape}')"
   ]
  },
  {
   "cell_type": "markdown",
   "metadata": {},
   "source": [
    "Используем 10-fold cross validation. Сохраняем модели."
   ]
  },
  {
   "cell_type": "code",
   "execution_count": null,
   "metadata": {
    "scrolled": true
   },
   "outputs": [],
   "source": [
    "train_acc_2 = {}\n",
    "val_acc_2 = {}\n",
    "best_val_acc_2 = {}\n",
    "\n",
    "for i in range(1, 11):\n",
    "    print(f'Start train {i}-th model')\n",
    "    \n",
    "    # Train dataset\n",
    "    X_train = X[np.where(Y.strat_fold != i)]\n",
    "    X_train_meta = X_meta[np.where(Y.strat_fold != i)]\n",
    "    Y_train = Y[Y.strat_fold != i]\n",
    "    y_train = Y_train[SCP_LABELS_ARR].values\n",
    "\n",
    "    # Validation dataset\n",
    "    X_val = X[np.where(Y.strat_fold == i)]\n",
    "    X_val_meta = X_meta[np.where(Y.strat_fold == i)]\n",
    "    Y_val = Y[Y.strat_fold == i]\n",
    "    y_val = Y_val[SCP_LABELS_ARR].values\n",
    "\n",
    "    wrapper = ModelWrapper(ECGWithMetaNet())\n",
    "    save_path = f'./models/ecg_meta_{i}'\n",
    "    ta, va, bva = wrapper.train_n_epochs(\n",
    "        X_train, X_train_meta, y_train, X_val, X_val_meta, y_val,\n",
    "        save_path, epochs=35, verbose=False, batch_size=256\n",
    "    )\n",
    "    train_acc_2[i] = ta\n",
    "    val_acc_2[i] = va\n",
    "    best_val_acc_2[i] = bva"
   ]
  },
  {
   "cell_type": "code",
   "execution_count": 62,
   "metadata": {},
   "outputs": [
    {
     "name": "stdout",
     "output_type": "stream",
     "text": [
      "Start evaluate 1-th model\n",
      "Start evaluate 2-th model\n",
      "Start evaluate 3-th model\n",
      "Start evaluate 4-th model\n",
      "Start evaluate 5-th model\n",
      "Start evaluate 6-th model\n",
      "Start evaluate 7-th model\n",
      "Start evaluate 8-th model\n",
      "Start evaluate 9-th model\n",
      "Start evaluate 10-th model\n"
     ]
    }
   ],
   "source": [
    "# Load models of 10-fold cross validation and evaluate\n",
    "predictions_2 = []\n",
    "\n",
    "for i in range(1, 11):\n",
    "    print(f'Start evaluate {i}-th model')\n",
    "    \n",
    "    # Validation dataset\n",
    "    X_val = X[np.where(Y.strat_fold == i)]\n",
    "    X_val_T = torch.Tensor(np.transpose(X_val, [0, 2, 1]))\n",
    "    X_val_meta = X_meta[np.where(Y.strat_fold == i)]\n",
    "    X_val_meta_T = torch.Tensor(X_val_meta)\n",
    "    Y_val = Y[Y.strat_fold == i]\n",
    "    y_val = Y_val[SCP_LABELS_ARR].values\n",
    "    \n",
    "    wrapper = ModelWrapper(ECGWithMetaNet())\n",
    "    save_path = f'./models/ecg_meta_{i}'\n",
    "    wrapper.load(save_path)\n",
    "    y_pred_weights = wrapper.predict((X_val_T, X_val_meta_T)).detach().numpy()\n",
    "    predictions_2.append([y_val, y_pred_weights])"
   ]
  },
  {
   "cell_type": "code",
   "execution_count": 12,
   "metadata": {},
   "outputs": [
    {
     "name": "stdout",
     "output_type": "stream",
     "text": [
      "sinus rhythm [SR]\n",
      "\tAccuracy: 0.8605  f1: 0.5716  ROC AUC: 0.888  Sensitivity [TPR]: 0.568  Specificity [TNR]: 0.9186\n",
      "sinus arrhythmia [SARRH]\n",
      "\tAccuracy: 0.8862  f1: 0.5344  ROC AUC: 0.8955  Sensitivity [TPR]: 0.5217  Specificity [TNR]: 0.9392\n",
      "bradycardia [SBRAD]\n",
      "\tAccuracy: 0.939  f1: 0.6878  ROC AUC: 0.9608  Sensitivity [TPR]: 0.6485  Specificity [TNR]: 0.9731\n",
      "sinus tachycardia [STACH]\n",
      "\tAccuracy: 0.9564  f1: 0.8502  ROC AUC: 0.9824  Sensitivity [TPR]: 0.9019  Specificity [TNR]: 0.9651\n",
      "artrial fibrillation [AFIB]\n",
      "\tAccuracy: 0.9189  f1: 0.8301  ROC AUC: 0.9692  Sensitivity [TPR]: 0.8079  Specificity [TNR]: 0.9555\n",
      "Total\n",
      "\tAccuracy: 0.6414  f1: 0.6948  ROC AUC: 0.9392  Sensitivity [TPR]: 0.6896  Specificity [TNR]: 0.9503\n"
     ]
    }
   ],
   "source": [
    "metrics_2 = get_metrics(predictions_2, METRICS)\n",
    "print_metrics(LABELS, METRICS_LABELS, metrics_2)"
   ]
  },
  {
   "cell_type": "code",
   "execution_count": 75,
   "metadata": {},
   "outputs": [],
   "source": [
    "train_acc_2_mean = np.zeros(len(train_acc_2[1]))\n",
    "val_acc_2_mean = np.zeros(len(val_acc_2[1]))\n",
    "\n",
    "for i in range(1, 11):\n",
    "    train_acc_2_mean += train_acc_2[i]\n",
    "    val_acc_2_mean += val_acc_2[i]\n",
    "train_acc_2_mean = train_acc_2_mean / 10\n",
    "val_acc_2_mean = val_acc_2_mean / 10"
   ]
  },
  {
   "cell_type": "code",
   "execution_count": 79,
   "metadata": {},
   "outputs": [
    {
     "data": {
      "application/vnd.plotly.v1+json": {
       "config": {
        "linkText": "Export to plot.ly",
        "plotlyServerURL": "https://plot.ly",
        "showLink": false
       },
       "data": [
        {
         "name": "Train",
         "type": "scatter",
         "x": [
          0,
          1,
          2,
          3,
          4,
          5,
          6,
          7,
          8,
          9,
          10,
          11,
          12,
          13,
          14,
          15,
          16,
          17,
          18,
          19,
          20,
          21,
          22,
          23,
          24,
          25,
          26,
          27,
          28,
          29,
          30,
          31,
          32,
          33,
          34
         ],
         "y": [
          0.21698968859867782,
          0.21955138729001256,
          0.22303219720838974,
          0.2506117940398188,
          0.28840487211421684,
          0.3483436689853408,
          0.41303722082122307,
          0.45755835555063473,
          0.4710227675875034,
          0.5014069266190058,
          0.5325106040593555,
          0.5499402988645049,
          0.5590177011764204,
          0.5623780596976398,
          0.5770683625037653,
          0.5821858660067436,
          0.5983988248623949,
          0.6002262283627913,
          0.6124834888558922,
          0.6184242773194536,
          0.6247961429614712,
          0.629581896147786,
          0.6398752607923522,
          0.6492425348466632,
          0.6579573566029359,
          0.6600578461745076,
          0.6659199752237276,
          0.6767311085696271,
          0.6862410196330277,
          0.6896596457429834,
          0.6979491377107713,
          0.7028333080068581,
          0.7109592246719256,
          0.7203956698545735,
          0.7214204089069518
         ]
        },
        {
         "name": "Validation",
         "type": "scatter",
         "x": [
          0,
          1,
          2,
          3,
          4,
          5,
          6,
          7,
          8,
          9,
          10,
          11,
          12,
          13,
          14,
          15,
          16,
          17,
          18,
          19,
          20,
          21,
          22,
          23,
          24,
          25,
          26,
          27,
          28,
          29,
          30,
          31,
          32,
          33,
          34
         ],
         "y": [
          0.21748882764618696,
          0.2148315936719412,
          0.21493246749837075,
          0.23945609035889773,
          0.2762090078810105,
          0.33413772187258,
          0.3991347963789854,
          0.44512987722689346,
          0.45338914814090214,
          0.4804935160614178,
          0.5061073350818132,
          0.5261570544599381,
          0.5355529745107704,
          0.5326258751371951,
          0.5471121478793464,
          0.5480370452014935,
          0.5612052421652141,
          0.5586300725060335,
          0.5665543013182132,
          0.5710918781869634,
          0.5773771898143294,
          0.5842713900381695,
          0.5884604800797593,
          0.6001077818653475,
          0.6057667002825433,
          0.6019856727346626,
          0.6069641516725706,
          0.6123751869656534,
          0.6214226723801038,
          0.6250042764773723,
          0.625881911215304,
          0.6276863014967909,
          0.6397847152470474,
          0.6393786638507414,
          0.6406196879404568
         ]
        }
       ],
       "layout": {
        "template": {
         "data": {
          "bar": [
           {
            "error_x": {
             "color": "#2a3f5f"
            },
            "error_y": {
             "color": "#2a3f5f"
            },
            "marker": {
             "line": {
              "color": "#E5ECF6",
              "width": 0.5
             }
            },
            "type": "bar"
           }
          ],
          "barpolar": [
           {
            "marker": {
             "line": {
              "color": "#E5ECF6",
              "width": 0.5
             }
            },
            "type": "barpolar"
           }
          ],
          "carpet": [
           {
            "aaxis": {
             "endlinecolor": "#2a3f5f",
             "gridcolor": "white",
             "linecolor": "white",
             "minorgridcolor": "white",
             "startlinecolor": "#2a3f5f"
            },
            "baxis": {
             "endlinecolor": "#2a3f5f",
             "gridcolor": "white",
             "linecolor": "white",
             "minorgridcolor": "white",
             "startlinecolor": "#2a3f5f"
            },
            "type": "carpet"
           }
          ],
          "choropleth": [
           {
            "colorbar": {
             "outlinewidth": 0,
             "ticks": ""
            },
            "type": "choropleth"
           }
          ],
          "contour": [
           {
            "colorbar": {
             "outlinewidth": 0,
             "ticks": ""
            },
            "colorscale": [
             [
              0,
              "#0d0887"
             ],
             [
              0.1111111111111111,
              "#46039f"
             ],
             [
              0.2222222222222222,
              "#7201a8"
             ],
             [
              0.3333333333333333,
              "#9c179e"
             ],
             [
              0.4444444444444444,
              "#bd3786"
             ],
             [
              0.5555555555555556,
              "#d8576b"
             ],
             [
              0.6666666666666666,
              "#ed7953"
             ],
             [
              0.7777777777777778,
              "#fb9f3a"
             ],
             [
              0.8888888888888888,
              "#fdca26"
             ],
             [
              1,
              "#f0f921"
             ]
            ],
            "type": "contour"
           }
          ],
          "contourcarpet": [
           {
            "colorbar": {
             "outlinewidth": 0,
             "ticks": ""
            },
            "type": "contourcarpet"
           }
          ],
          "heatmap": [
           {
            "colorbar": {
             "outlinewidth": 0,
             "ticks": ""
            },
            "colorscale": [
             [
              0,
              "#0d0887"
             ],
             [
              0.1111111111111111,
              "#46039f"
             ],
             [
              0.2222222222222222,
              "#7201a8"
             ],
             [
              0.3333333333333333,
              "#9c179e"
             ],
             [
              0.4444444444444444,
              "#bd3786"
             ],
             [
              0.5555555555555556,
              "#d8576b"
             ],
             [
              0.6666666666666666,
              "#ed7953"
             ],
             [
              0.7777777777777778,
              "#fb9f3a"
             ],
             [
              0.8888888888888888,
              "#fdca26"
             ],
             [
              1,
              "#f0f921"
             ]
            ],
            "type": "heatmap"
           }
          ],
          "heatmapgl": [
           {
            "colorbar": {
             "outlinewidth": 0,
             "ticks": ""
            },
            "colorscale": [
             [
              0,
              "#0d0887"
             ],
             [
              0.1111111111111111,
              "#46039f"
             ],
             [
              0.2222222222222222,
              "#7201a8"
             ],
             [
              0.3333333333333333,
              "#9c179e"
             ],
             [
              0.4444444444444444,
              "#bd3786"
             ],
             [
              0.5555555555555556,
              "#d8576b"
             ],
             [
              0.6666666666666666,
              "#ed7953"
             ],
             [
              0.7777777777777778,
              "#fb9f3a"
             ],
             [
              0.8888888888888888,
              "#fdca26"
             ],
             [
              1,
              "#f0f921"
             ]
            ],
            "type": "heatmapgl"
           }
          ],
          "histogram": [
           {
            "marker": {
             "colorbar": {
              "outlinewidth": 0,
              "ticks": ""
             }
            },
            "type": "histogram"
           }
          ],
          "histogram2d": [
           {
            "colorbar": {
             "outlinewidth": 0,
             "ticks": ""
            },
            "colorscale": [
             [
              0,
              "#0d0887"
             ],
             [
              0.1111111111111111,
              "#46039f"
             ],
             [
              0.2222222222222222,
              "#7201a8"
             ],
             [
              0.3333333333333333,
              "#9c179e"
             ],
             [
              0.4444444444444444,
              "#bd3786"
             ],
             [
              0.5555555555555556,
              "#d8576b"
             ],
             [
              0.6666666666666666,
              "#ed7953"
             ],
             [
              0.7777777777777778,
              "#fb9f3a"
             ],
             [
              0.8888888888888888,
              "#fdca26"
             ],
             [
              1,
              "#f0f921"
             ]
            ],
            "type": "histogram2d"
           }
          ],
          "histogram2dcontour": [
           {
            "colorbar": {
             "outlinewidth": 0,
             "ticks": ""
            },
            "colorscale": [
             [
              0,
              "#0d0887"
             ],
             [
              0.1111111111111111,
              "#46039f"
             ],
             [
              0.2222222222222222,
              "#7201a8"
             ],
             [
              0.3333333333333333,
              "#9c179e"
             ],
             [
              0.4444444444444444,
              "#bd3786"
             ],
             [
              0.5555555555555556,
              "#d8576b"
             ],
             [
              0.6666666666666666,
              "#ed7953"
             ],
             [
              0.7777777777777778,
              "#fb9f3a"
             ],
             [
              0.8888888888888888,
              "#fdca26"
             ],
             [
              1,
              "#f0f921"
             ]
            ],
            "type": "histogram2dcontour"
           }
          ],
          "mesh3d": [
           {
            "colorbar": {
             "outlinewidth": 0,
             "ticks": ""
            },
            "type": "mesh3d"
           }
          ],
          "parcoords": [
           {
            "line": {
             "colorbar": {
              "outlinewidth": 0,
              "ticks": ""
             }
            },
            "type": "parcoords"
           }
          ],
          "scatter": [
           {
            "marker": {
             "colorbar": {
              "outlinewidth": 0,
              "ticks": ""
             }
            },
            "type": "scatter"
           }
          ],
          "scatter3d": [
           {
            "line": {
             "colorbar": {
              "outlinewidth": 0,
              "ticks": ""
             }
            },
            "marker": {
             "colorbar": {
              "outlinewidth": 0,
              "ticks": ""
             }
            },
            "type": "scatter3d"
           }
          ],
          "scattercarpet": [
           {
            "marker": {
             "colorbar": {
              "outlinewidth": 0,
              "ticks": ""
             }
            },
            "type": "scattercarpet"
           }
          ],
          "scattergeo": [
           {
            "marker": {
             "colorbar": {
              "outlinewidth": 0,
              "ticks": ""
             }
            },
            "type": "scattergeo"
           }
          ],
          "scattergl": [
           {
            "marker": {
             "colorbar": {
              "outlinewidth": 0,
              "ticks": ""
             }
            },
            "type": "scattergl"
           }
          ],
          "scattermapbox": [
           {
            "marker": {
             "colorbar": {
              "outlinewidth": 0,
              "ticks": ""
             }
            },
            "type": "scattermapbox"
           }
          ],
          "scatterpolar": [
           {
            "marker": {
             "colorbar": {
              "outlinewidth": 0,
              "ticks": ""
             }
            },
            "type": "scatterpolar"
           }
          ],
          "scatterpolargl": [
           {
            "marker": {
             "colorbar": {
              "outlinewidth": 0,
              "ticks": ""
             }
            },
            "type": "scatterpolargl"
           }
          ],
          "scatterternary": [
           {
            "marker": {
             "colorbar": {
              "outlinewidth": 0,
              "ticks": ""
             }
            },
            "type": "scatterternary"
           }
          ],
          "surface": [
           {
            "colorbar": {
             "outlinewidth": 0,
             "ticks": ""
            },
            "colorscale": [
             [
              0,
              "#0d0887"
             ],
             [
              0.1111111111111111,
              "#46039f"
             ],
             [
              0.2222222222222222,
              "#7201a8"
             ],
             [
              0.3333333333333333,
              "#9c179e"
             ],
             [
              0.4444444444444444,
              "#bd3786"
             ],
             [
              0.5555555555555556,
              "#d8576b"
             ],
             [
              0.6666666666666666,
              "#ed7953"
             ],
             [
              0.7777777777777778,
              "#fb9f3a"
             ],
             [
              0.8888888888888888,
              "#fdca26"
             ],
             [
              1,
              "#f0f921"
             ]
            ],
            "type": "surface"
           }
          ],
          "table": [
           {
            "cells": {
             "fill": {
              "color": "#EBF0F8"
             },
             "line": {
              "color": "white"
             }
            },
            "header": {
             "fill": {
              "color": "#C8D4E3"
             },
             "line": {
              "color": "white"
             }
            },
            "type": "table"
           }
          ]
         },
         "layout": {
          "annotationdefaults": {
           "arrowcolor": "#2a3f5f",
           "arrowhead": 0,
           "arrowwidth": 1
          },
          "colorscale": {
           "diverging": [
            [
             0,
             "#8e0152"
            ],
            [
             0.1,
             "#c51b7d"
            ],
            [
             0.2,
             "#de77ae"
            ],
            [
             0.3,
             "#f1b6da"
            ],
            [
             0.4,
             "#fde0ef"
            ],
            [
             0.5,
             "#f7f7f7"
            ],
            [
             0.6,
             "#e6f5d0"
            ],
            [
             0.7,
             "#b8e186"
            ],
            [
             0.8,
             "#7fbc41"
            ],
            [
             0.9,
             "#4d9221"
            ],
            [
             1,
             "#276419"
            ]
           ],
           "sequential": [
            [
             0,
             "#0d0887"
            ],
            [
             0.1111111111111111,
             "#46039f"
            ],
            [
             0.2222222222222222,
             "#7201a8"
            ],
            [
             0.3333333333333333,
             "#9c179e"
            ],
            [
             0.4444444444444444,
             "#bd3786"
            ],
            [
             0.5555555555555556,
             "#d8576b"
            ],
            [
             0.6666666666666666,
             "#ed7953"
            ],
            [
             0.7777777777777778,
             "#fb9f3a"
            ],
            [
             0.8888888888888888,
             "#fdca26"
            ],
            [
             1,
             "#f0f921"
            ]
           ],
           "sequentialminus": [
            [
             0,
             "#0d0887"
            ],
            [
             0.1111111111111111,
             "#46039f"
            ],
            [
             0.2222222222222222,
             "#7201a8"
            ],
            [
             0.3333333333333333,
             "#9c179e"
            ],
            [
             0.4444444444444444,
             "#bd3786"
            ],
            [
             0.5555555555555556,
             "#d8576b"
            ],
            [
             0.6666666666666666,
             "#ed7953"
            ],
            [
             0.7777777777777778,
             "#fb9f3a"
            ],
            [
             0.8888888888888888,
             "#fdca26"
            ],
            [
             1,
             "#f0f921"
            ]
           ]
          },
          "colorway": [
           "#636efa",
           "#EF553B",
           "#00cc96",
           "#ab63fa",
           "#FFA15A",
           "#19d3f3",
           "#FF6692",
           "#B6E880",
           "#FF97FF",
           "#FECB52"
          ],
          "font": {
           "color": "#2a3f5f"
          },
          "geo": {
           "bgcolor": "white",
           "lakecolor": "white",
           "landcolor": "#E5ECF6",
           "showlakes": true,
           "showland": true,
           "subunitcolor": "white"
          },
          "hoverlabel": {
           "align": "left"
          },
          "hovermode": "closest",
          "mapbox": {
           "style": "light"
          },
          "paper_bgcolor": "white",
          "plot_bgcolor": "#E5ECF6",
          "polar": {
           "angularaxis": {
            "gridcolor": "white",
            "linecolor": "white",
            "ticks": ""
           },
           "bgcolor": "#E5ECF6",
           "radialaxis": {
            "gridcolor": "white",
            "linecolor": "white",
            "ticks": ""
           }
          },
          "scene": {
           "xaxis": {
            "backgroundcolor": "#E5ECF6",
            "gridcolor": "white",
            "gridwidth": 2,
            "linecolor": "white",
            "showbackground": true,
            "ticks": "",
            "zerolinecolor": "white"
           },
           "yaxis": {
            "backgroundcolor": "#E5ECF6",
            "gridcolor": "white",
            "gridwidth": 2,
            "linecolor": "white",
            "showbackground": true,
            "ticks": "",
            "zerolinecolor": "white"
           },
           "zaxis": {
            "backgroundcolor": "#E5ECF6",
            "gridcolor": "white",
            "gridwidth": 2,
            "linecolor": "white",
            "showbackground": true,
            "ticks": "",
            "zerolinecolor": "white"
           }
          },
          "shapedefaults": {
           "line": {
            "color": "#2a3f5f"
           }
          },
          "ternary": {
           "aaxis": {
            "gridcolor": "white",
            "linecolor": "white",
            "ticks": ""
           },
           "baxis": {
            "gridcolor": "white",
            "linecolor": "white",
            "ticks": ""
           },
           "bgcolor": "#E5ECF6",
           "caxis": {
            "gridcolor": "white",
            "linecolor": "white",
            "ticks": ""
           }
          },
          "title": {
           "x": 0.05
          },
          "xaxis": {
           "automargin": true,
           "gridcolor": "white",
           "linecolor": "white",
           "ticks": "",
           "zerolinecolor": "white",
           "zerolinewidth": 2
          },
          "yaxis": {
           "automargin": true,
           "gridcolor": "white",
           "linecolor": "white",
           "ticks": "",
           "zerolinecolor": "white",
           "zerolinewidth": 2
          }
         }
        },
        "title": {
         "text": "Mean accuracy per epoch, CNN with meta"
        }
       }
      },
      "text/html": [
       "<div>\n",
       "        \n",
       "        \n",
       "            <div id=\"0ac64fcd-14d9-4aa3-a956-16708c71ffd9\" class=\"plotly-graph-div\" style=\"height:525px; width:100%;\"></div>\n",
       "            <script type=\"text/javascript\">\n",
       "                require([\"plotly\"], function(Plotly) {\n",
       "                    window.PLOTLYENV=window.PLOTLYENV || {};\n",
       "                    \n",
       "                if (document.getElementById(\"0ac64fcd-14d9-4aa3-a956-16708c71ffd9\")) {\n",
       "                    Plotly.newPlot(\n",
       "                        '0ac64fcd-14d9-4aa3-a956-16708c71ffd9',\n",
       "                        [{\"name\": \"Train\", \"type\": \"scatter\", \"x\": [0, 1, 2, 3, 4, 5, 6, 7, 8, 9, 10, 11, 12, 13, 14, 15, 16, 17, 18, 19, 20, 21, 22, 23, 24, 25, 26, 27, 28, 29, 30, 31, 32, 33, 34], \"y\": [0.21698968859867782, 0.21955138729001256, 0.22303219720838974, 0.2506117940398188, 0.28840487211421684, 0.3483436689853408, 0.41303722082122307, 0.45755835555063473, 0.4710227675875034, 0.5014069266190058, 0.5325106040593555, 0.5499402988645049, 0.5590177011764204, 0.5623780596976398, 0.5770683625037653, 0.5821858660067436, 0.5983988248623949, 0.6002262283627913, 0.6124834888558922, 0.6184242773194536, 0.6247961429614712, 0.629581896147786, 0.6398752607923522, 0.6492425348466632, 0.6579573566029359, 0.6600578461745076, 0.6659199752237276, 0.6767311085696271, 0.6862410196330277, 0.6896596457429834, 0.6979491377107713, 0.7028333080068581, 0.7109592246719256, 0.7203956698545735, 0.7214204089069518]}, {\"name\": \"Validation\", \"type\": \"scatter\", \"x\": [0, 1, 2, 3, 4, 5, 6, 7, 8, 9, 10, 11, 12, 13, 14, 15, 16, 17, 18, 19, 20, 21, 22, 23, 24, 25, 26, 27, 28, 29, 30, 31, 32, 33, 34], \"y\": [0.21748882764618696, 0.2148315936719412, 0.21493246749837075, 0.23945609035889773, 0.2762090078810105, 0.33413772187258, 0.3991347963789854, 0.44512987722689346, 0.45338914814090214, 0.4804935160614178, 0.5061073350818132, 0.5261570544599381, 0.5355529745107704, 0.5326258751371951, 0.5471121478793464, 0.5480370452014935, 0.5612052421652141, 0.5586300725060335, 0.5665543013182132, 0.5710918781869634, 0.5773771898143294, 0.5842713900381695, 0.5884604800797593, 0.6001077818653475, 0.6057667002825433, 0.6019856727346626, 0.6069641516725706, 0.6123751869656534, 0.6214226723801038, 0.6250042764773723, 0.625881911215304, 0.6276863014967909, 0.6397847152470474, 0.6393786638507414, 0.6406196879404568]}],\n",
       "                        {\"template\": {\"data\": {\"bar\": [{\"error_x\": {\"color\": \"#2a3f5f\"}, \"error_y\": {\"color\": \"#2a3f5f\"}, \"marker\": {\"line\": {\"color\": \"#E5ECF6\", \"width\": 0.5}}, \"type\": \"bar\"}], \"barpolar\": [{\"marker\": {\"line\": {\"color\": \"#E5ECF6\", \"width\": 0.5}}, \"type\": \"barpolar\"}], \"carpet\": [{\"aaxis\": {\"endlinecolor\": \"#2a3f5f\", \"gridcolor\": \"white\", \"linecolor\": \"white\", \"minorgridcolor\": \"white\", \"startlinecolor\": \"#2a3f5f\"}, \"baxis\": {\"endlinecolor\": \"#2a3f5f\", \"gridcolor\": \"white\", \"linecolor\": \"white\", \"minorgridcolor\": \"white\", \"startlinecolor\": \"#2a3f5f\"}, \"type\": \"carpet\"}], \"choropleth\": [{\"colorbar\": {\"outlinewidth\": 0, \"ticks\": \"\"}, \"type\": \"choropleth\"}], \"contour\": [{\"colorbar\": {\"outlinewidth\": 0, \"ticks\": \"\"}, \"colorscale\": [[0.0, \"#0d0887\"], [0.1111111111111111, \"#46039f\"], [0.2222222222222222, \"#7201a8\"], [0.3333333333333333, \"#9c179e\"], [0.4444444444444444, \"#bd3786\"], [0.5555555555555556, \"#d8576b\"], [0.6666666666666666, \"#ed7953\"], [0.7777777777777778, \"#fb9f3a\"], [0.8888888888888888, \"#fdca26\"], [1.0, \"#f0f921\"]], \"type\": \"contour\"}], \"contourcarpet\": [{\"colorbar\": {\"outlinewidth\": 0, \"ticks\": \"\"}, \"type\": \"contourcarpet\"}], \"heatmap\": [{\"colorbar\": {\"outlinewidth\": 0, \"ticks\": \"\"}, \"colorscale\": [[0.0, \"#0d0887\"], [0.1111111111111111, \"#46039f\"], [0.2222222222222222, \"#7201a8\"], [0.3333333333333333, \"#9c179e\"], [0.4444444444444444, \"#bd3786\"], [0.5555555555555556, \"#d8576b\"], [0.6666666666666666, \"#ed7953\"], [0.7777777777777778, \"#fb9f3a\"], [0.8888888888888888, \"#fdca26\"], [1.0, \"#f0f921\"]], \"type\": \"heatmap\"}], \"heatmapgl\": [{\"colorbar\": {\"outlinewidth\": 0, \"ticks\": \"\"}, \"colorscale\": [[0.0, \"#0d0887\"], [0.1111111111111111, \"#46039f\"], [0.2222222222222222, \"#7201a8\"], [0.3333333333333333, \"#9c179e\"], [0.4444444444444444, \"#bd3786\"], [0.5555555555555556, \"#d8576b\"], [0.6666666666666666, \"#ed7953\"], [0.7777777777777778, \"#fb9f3a\"], [0.8888888888888888, \"#fdca26\"], [1.0, \"#f0f921\"]], \"type\": \"heatmapgl\"}], \"histogram\": [{\"marker\": {\"colorbar\": {\"outlinewidth\": 0, \"ticks\": \"\"}}, \"type\": \"histogram\"}], \"histogram2d\": [{\"colorbar\": {\"outlinewidth\": 0, \"ticks\": \"\"}, \"colorscale\": [[0.0, \"#0d0887\"], [0.1111111111111111, \"#46039f\"], [0.2222222222222222, \"#7201a8\"], [0.3333333333333333, \"#9c179e\"], [0.4444444444444444, \"#bd3786\"], [0.5555555555555556, \"#d8576b\"], [0.6666666666666666, \"#ed7953\"], [0.7777777777777778, \"#fb9f3a\"], [0.8888888888888888, \"#fdca26\"], [1.0, \"#f0f921\"]], \"type\": \"histogram2d\"}], \"histogram2dcontour\": [{\"colorbar\": {\"outlinewidth\": 0, \"ticks\": \"\"}, \"colorscale\": [[0.0, \"#0d0887\"], [0.1111111111111111, \"#46039f\"], [0.2222222222222222, \"#7201a8\"], [0.3333333333333333, \"#9c179e\"], [0.4444444444444444, \"#bd3786\"], [0.5555555555555556, \"#d8576b\"], [0.6666666666666666, \"#ed7953\"], [0.7777777777777778, \"#fb9f3a\"], [0.8888888888888888, \"#fdca26\"], [1.0, \"#f0f921\"]], \"type\": \"histogram2dcontour\"}], \"mesh3d\": [{\"colorbar\": {\"outlinewidth\": 0, \"ticks\": \"\"}, \"type\": \"mesh3d\"}], \"parcoords\": [{\"line\": {\"colorbar\": {\"outlinewidth\": 0, \"ticks\": \"\"}}, \"type\": \"parcoords\"}], \"scatter\": [{\"marker\": {\"colorbar\": {\"outlinewidth\": 0, \"ticks\": \"\"}}, \"type\": \"scatter\"}], \"scatter3d\": [{\"line\": {\"colorbar\": {\"outlinewidth\": 0, \"ticks\": \"\"}}, \"marker\": {\"colorbar\": {\"outlinewidth\": 0, \"ticks\": \"\"}}, \"type\": \"scatter3d\"}], \"scattercarpet\": [{\"marker\": {\"colorbar\": {\"outlinewidth\": 0, \"ticks\": \"\"}}, \"type\": \"scattercarpet\"}], \"scattergeo\": [{\"marker\": {\"colorbar\": {\"outlinewidth\": 0, \"ticks\": \"\"}}, \"type\": \"scattergeo\"}], \"scattergl\": [{\"marker\": {\"colorbar\": {\"outlinewidth\": 0, \"ticks\": \"\"}}, \"type\": \"scattergl\"}], \"scattermapbox\": [{\"marker\": {\"colorbar\": {\"outlinewidth\": 0, \"ticks\": \"\"}}, \"type\": \"scattermapbox\"}], \"scatterpolar\": [{\"marker\": {\"colorbar\": {\"outlinewidth\": 0, \"ticks\": \"\"}}, \"type\": \"scatterpolar\"}], \"scatterpolargl\": [{\"marker\": {\"colorbar\": {\"outlinewidth\": 0, \"ticks\": \"\"}}, \"type\": \"scatterpolargl\"}], \"scatterternary\": [{\"marker\": {\"colorbar\": {\"outlinewidth\": 0, \"ticks\": \"\"}}, \"type\": \"scatterternary\"}], \"surface\": [{\"colorbar\": {\"outlinewidth\": 0, \"ticks\": \"\"}, \"colorscale\": [[0.0, \"#0d0887\"], [0.1111111111111111, \"#46039f\"], [0.2222222222222222, \"#7201a8\"], [0.3333333333333333, \"#9c179e\"], [0.4444444444444444, \"#bd3786\"], [0.5555555555555556, \"#d8576b\"], [0.6666666666666666, \"#ed7953\"], [0.7777777777777778, \"#fb9f3a\"], [0.8888888888888888, \"#fdca26\"], [1.0, \"#f0f921\"]], \"type\": \"surface\"}], \"table\": [{\"cells\": {\"fill\": {\"color\": \"#EBF0F8\"}, \"line\": {\"color\": \"white\"}}, \"header\": {\"fill\": {\"color\": \"#C8D4E3\"}, \"line\": {\"color\": \"white\"}}, \"type\": \"table\"}]}, \"layout\": {\"annotationdefaults\": {\"arrowcolor\": \"#2a3f5f\", \"arrowhead\": 0, \"arrowwidth\": 1}, \"colorscale\": {\"diverging\": [[0, \"#8e0152\"], [0.1, \"#c51b7d\"], [0.2, \"#de77ae\"], [0.3, \"#f1b6da\"], [0.4, \"#fde0ef\"], [0.5, \"#f7f7f7\"], [0.6, \"#e6f5d0\"], [0.7, \"#b8e186\"], [0.8, \"#7fbc41\"], [0.9, \"#4d9221\"], [1, \"#276419\"]], \"sequential\": [[0.0, \"#0d0887\"], [0.1111111111111111, \"#46039f\"], [0.2222222222222222, \"#7201a8\"], [0.3333333333333333, \"#9c179e\"], [0.4444444444444444, \"#bd3786\"], [0.5555555555555556, \"#d8576b\"], [0.6666666666666666, \"#ed7953\"], [0.7777777777777778, \"#fb9f3a\"], [0.8888888888888888, \"#fdca26\"], [1.0, \"#f0f921\"]], \"sequentialminus\": [[0.0, \"#0d0887\"], [0.1111111111111111, \"#46039f\"], [0.2222222222222222, \"#7201a8\"], [0.3333333333333333, \"#9c179e\"], [0.4444444444444444, \"#bd3786\"], [0.5555555555555556, \"#d8576b\"], [0.6666666666666666, \"#ed7953\"], [0.7777777777777778, \"#fb9f3a\"], [0.8888888888888888, \"#fdca26\"], [1.0, \"#f0f921\"]]}, \"colorway\": [\"#636efa\", \"#EF553B\", \"#00cc96\", \"#ab63fa\", \"#FFA15A\", \"#19d3f3\", \"#FF6692\", \"#B6E880\", \"#FF97FF\", \"#FECB52\"], \"font\": {\"color\": \"#2a3f5f\"}, \"geo\": {\"bgcolor\": \"white\", \"lakecolor\": \"white\", \"landcolor\": \"#E5ECF6\", \"showlakes\": true, \"showland\": true, \"subunitcolor\": \"white\"}, \"hoverlabel\": {\"align\": \"left\"}, \"hovermode\": \"closest\", \"mapbox\": {\"style\": \"light\"}, \"paper_bgcolor\": \"white\", \"plot_bgcolor\": \"#E5ECF6\", \"polar\": {\"angularaxis\": {\"gridcolor\": \"white\", \"linecolor\": \"white\", \"ticks\": \"\"}, \"bgcolor\": \"#E5ECF6\", \"radialaxis\": {\"gridcolor\": \"white\", \"linecolor\": \"white\", \"ticks\": \"\"}}, \"scene\": {\"xaxis\": {\"backgroundcolor\": \"#E5ECF6\", \"gridcolor\": \"white\", \"gridwidth\": 2, \"linecolor\": \"white\", \"showbackground\": true, \"ticks\": \"\", \"zerolinecolor\": \"white\"}, \"yaxis\": {\"backgroundcolor\": \"#E5ECF6\", \"gridcolor\": \"white\", \"gridwidth\": 2, \"linecolor\": \"white\", \"showbackground\": true, \"ticks\": \"\", \"zerolinecolor\": \"white\"}, \"zaxis\": {\"backgroundcolor\": \"#E5ECF6\", \"gridcolor\": \"white\", \"gridwidth\": 2, \"linecolor\": \"white\", \"showbackground\": true, \"ticks\": \"\", \"zerolinecolor\": \"white\"}}, \"shapedefaults\": {\"line\": {\"color\": \"#2a3f5f\"}}, \"ternary\": {\"aaxis\": {\"gridcolor\": \"white\", \"linecolor\": \"white\", \"ticks\": \"\"}, \"baxis\": {\"gridcolor\": \"white\", \"linecolor\": \"white\", \"ticks\": \"\"}, \"bgcolor\": \"#E5ECF6\", \"caxis\": {\"gridcolor\": \"white\", \"linecolor\": \"white\", \"ticks\": \"\"}}, \"title\": {\"x\": 0.05}, \"xaxis\": {\"automargin\": true, \"gridcolor\": \"white\", \"linecolor\": \"white\", \"ticks\": \"\", \"zerolinecolor\": \"white\", \"zerolinewidth\": 2}, \"yaxis\": {\"automargin\": true, \"gridcolor\": \"white\", \"linecolor\": \"white\", \"ticks\": \"\", \"zerolinecolor\": \"white\", \"zerolinewidth\": 2}}}, \"title\": {\"text\": \"Mean accuracy per epoch, CNN with meta\"}},\n",
       "                        {\"responsive\": true}\n",
       "                    ).then(function(){\n",
       "                            \n",
       "var gd = document.getElementById('0ac64fcd-14d9-4aa3-a956-16708c71ffd9');\n",
       "var x = new MutationObserver(function (mutations, observer) {{\n",
       "        var display = window.getComputedStyle(gd).display;\n",
       "        if (!display || display === 'none') {{\n",
       "            console.log([gd, 'removed!']);\n",
       "            Plotly.purge(gd);\n",
       "            observer.disconnect();\n",
       "        }}\n",
       "}});\n",
       "\n",
       "// Listen for the removal of the full notebook cells\n",
       "var notebookContainer = gd.closest('#notebook-container');\n",
       "if (notebookContainer) {{\n",
       "    x.observe(notebookContainer, {childList: true});\n",
       "}}\n",
       "\n",
       "// Listen for the clearing of the current output cell\n",
       "var outputEl = gd.closest('.output');\n",
       "if (outputEl) {{\n",
       "    x.observe(outputEl, {childList: true});\n",
       "}}\n",
       "\n",
       "                        })\n",
       "                };\n",
       "                });\n",
       "            </script>\n",
       "        </div>"
      ]
     },
     "metadata": {},
     "output_type": "display_data"
    }
   ],
   "source": [
    "train_trace = go.Scatter(x=np.arange(len(train_acc_2_mean)), y=train_acc_2_mean, name='Train')\n",
    "val_trace = go.Scatter(x=np.arange(len(val_acc_2_mean)), y=val_acc_2_mean, name='Validation')\n",
    "fig = go.Figure(data=[train_trace, val_trace], layout=go.Layout(title='Mean accuracy per epoch, CNN with meta'))\n",
    "iplot(fig)"
   ]
  },
  {
   "cell_type": "markdown",
   "metadata": {},
   "source": [
    "### Проверяем, что модели различаются статистически значимо"
   ]
  },
  {
   "cell_type": "markdown",
   "metadata": {},
   "source": [
    "Считать стат значимость будем по f1-метрике.<br>\n",
    "Для каждой модели у нас есть 6 выборок по 10 значений (5 классов + Total).<br>\n",
    "В качестве статистического критерия используем критерий Уилкоксона (непараметрический, для небольших зависимых выборок)"
   ]
  },
  {
   "cell_type": "code",
   "execution_count": 25,
   "metadata": {},
   "outputs": [
    {
     "name": "stdout",
     "output_type": "stream",
     "text": [
      "sinus rhythm [SR]\n",
      "\tmean f1 [1]: 0.425, mean f1 [2]: 0.572, p_value: 0.00390625\n",
      "sinus arrhythmia [SARRH]\n",
      "\tmean f1 [1]: 0.187, mean f1 [2]: 0.534, p_value: 0.001953125\n",
      "bradycardia [SBRAD]\n",
      "\tmean f1 [1]: 0.687, mean f1 [2]: 0.688, p_value: 1.0\n",
      "sinus tachycardia [STACH]\n",
      "\tmean f1 [1]: 0.833, mean f1 [2]: 0.85, p_value: 0.083984375\n",
      "artrial fibrillation [AFIB]\n",
      "\tmean f1 [1]: 0.759, mean f1 [2]: 0.83, p_value: 0.005859375\n",
      "Total\n",
      "\tmean f1 [1]: 0.578, mean f1 [2]: 0.695, p_value: 0.001953125\n"
     ]
    }
   ],
   "source": [
    "for i, label in enumerate(LABELS):\n",
    "    v1 = metrics_1[:, i, 1]\n",
    "    v2 = metrics_2[:, i, 1]\n",
    "    pval = wilcoxon(v1, v2)[1]\n",
    "    print(label)\n",
    "    print(f'\\tmean f1 [1]: {np.round(np.mean(v1), 3)}, mean f1 [2]: {np.round(np.mean(v2), 3)}, p_value: {pval}')"
   ]
  },
  {
   "cell_type": "markdown",
   "metadata": {},
   "source": [
    "Как можно заметить, с помощью мета-фичей, основанных на R-пике можно статистически значимо улушить распознавание синусового ритма и аритмии"
   ]
  }
 ],
 "metadata": {
  "kernelspec": {
   "display_name": "Python 3",
   "language": "python",
   "name": "python3"
  },
  "language_info": {
   "codemirror_mode": {
    "name": "ipython",
    "version": 3
   },
   "file_extension": ".py",
   "mimetype": "text/x-python",
   "name": "python",
   "nbconvert_exporter": "python",
   "pygments_lexer": "ipython3",
   "version": "3.7.1"
  }
 },
 "nbformat": 4,
 "nbformat_minor": 2
}
